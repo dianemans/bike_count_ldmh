{
 "cells": [
  {
   "cell_type": "code",
   "execution_count": 14,
   "metadata": {},
   "outputs": [],
   "source": [
    "import pandas as pd\n",
    "import numpy as np\n",
    "import holidays\n",
    "from pathlib import Path\n",
    "from sklearn.preprocessing import FunctionTransformer, OneHotEncoder, StandardScaler\n",
    "from sklearn.pipeline import make_pipeline\n",
    "from sklearn.compose import ColumnTransformer\n",
    "from sklearn.linear_model import LinearRegression, Ridge\n",
    "from sklearn.ensemble import RandomForestRegressor\n",
    "from sklearn.model_selection import GridSearchCV, TimeSeriesSplit\n",
    "from xgboost import XGBRegressor\n",
    "from skrub import TableVectorizer, DatetimeEncoder\n",
    "import optuna\n",
    "import importlib\n",
    "import utils as bc\n",
    "import xgboost as xgb\n",
    "from sklearn.metrics import root_mean_squared_error"
   ]
  },
  {
   "cell_type": "code",
   "execution_count": 21,
   "metadata": {},
   "outputs": [
    {
     "data": {
      "text/plain": [
       "<module 'utils' from 'c:\\\\Users\\\\diane\\\\bike_count_ldmh\\\\utils.py'>"
      ]
     },
     "execution_count": 21,
     "metadata": {},
     "output_type": "execute_result"
    }
   ],
   "source": [
    "importlib.reload(bc)"
   ]
  },
  {
   "cell_type": "code",
   "execution_count": 5,
   "metadata": {},
   "outputs": [
    {
     "name": "stderr",
     "output_type": "stream",
     "text": [
      "[I 2024-12-11 12:16:49,541] A new study created in memory with name: no-name-e10a81f1-b967-433e-852b-f4b242f23465\n",
      "[I 2024-12-11 12:18:19,616] Trial 0 finished with value: 0.49843714390187704 and parameters: {'learning_rate': 0.1796755184532604, 'max_depth': 8, 'n_estimators': 111}. Best is trial 0 with value: 0.49843714390187704.\n",
      "[I 2024-12-11 12:19:30,324] Trial 1 finished with value: 0.690716987124988 and parameters: {'learning_rate': 0.01835105263985338, 'max_depth': 6, 'n_estimators': 122}. Best is trial 0 with value: 0.49843714390187704.\n",
      "[I 2024-12-11 12:20:45,988] Trial 2 finished with value: 0.44309938739833055 and parameters: {'learning_rate': 0.05830528906289511, 'max_depth': 14, 'n_estimators': 63}. Best is trial 2 with value: 0.44309938739833055.\n",
      "[I 2024-12-11 12:22:52,973] Trial 3 finished with value: 0.5182766825295525 and parameters: {'learning_rate': 0.1718320626492706, 'max_depth': 4, 'n_estimators': 148}. Best is trial 2 with value: 0.44309938739833055.\n",
      "[I 2024-12-11 12:25:46,937] Trial 4 finished with value: 0.43922615965039935 and parameters: {'learning_rate': 0.0338046980160722, 'max_depth': 15, 'n_estimators': 166}. Best is trial 4 with value: 0.43922615965039935.\n",
      "[I 2024-12-11 12:27:29,993] Trial 5 finished with value: 0.4569906884627736 and parameters: {'learning_rate': 0.2618935584461744, 'max_depth': 14, 'n_estimators': 65}. Best is trial 4 with value: 0.43922615965039935.\n",
      "[I 2024-12-11 12:29:00,969] Trial 6 finished with value: 0.4856975934799719 and parameters: {'learning_rate': 0.13628710199753236, 'max_depth': 6, 'n_estimators': 171}. Best is trial 4 with value: 0.43922615965039935.\n",
      "[I 2024-12-11 12:31:28,674] Trial 7 finished with value: 0.45596995400302714 and parameters: {'learning_rate': 0.2129349603185303, 'max_depth': 15, 'n_estimators': 114}. Best is trial 4 with value: 0.43922615965039935.\n",
      "[I 2024-12-11 12:33:42,918] Trial 8 finished with value: 0.45168414153321856 and parameters: {'learning_rate': 0.19814648098924803, 'max_depth': 13, 'n_estimators': 128}. Best is trial 4 with value: 0.43922615965039935.\n",
      "[I 2024-12-11 12:35:28,371] Trial 9 finished with value: 0.4647344614410877 and parameters: {'learning_rate': 0.11137265760396914, 'max_depth': 14, 'n_estimators': 180}. Best is trial 4 with value: 0.43922615965039935.\n",
      "[I 2024-12-11 12:36:44,896] Trial 10 finished with value: 0.44733996179805824 and parameters: {'learning_rate': 0.07302551064885962, 'max_depth': 11, 'n_estimators': 198}. Best is trial 4 with value: 0.43922615965039935.\n",
      "[I 2024-12-11 12:37:53,542] Trial 11 finished with value: 0.8374306023048149 and parameters: {'learning_rate': 0.016925373628917155, 'max_depth': 11, 'n_estimators': 50}. Best is trial 4 with value: 0.43922615965039935.\n",
      "[I 2024-12-11 12:39:12,442] Trial 12 finished with value: 0.45107695195984054 and parameters: {'learning_rate': 0.0739443200181795, 'max_depth': 12, 'n_estimators': 84}. Best is trial 4 with value: 0.43922615965039935.\n",
      "[I 2024-12-11 12:40:46,587] Trial 13 finished with value: 0.4354790671862268 and parameters: {'learning_rate': 0.06751777540772239, 'max_depth': 15, 'n_estimators': 91}. Best is trial 13 with value: 0.4354790671862268.\n",
      "[I 2024-12-11 12:41:57,912] Trial 14 finished with value: 0.4829551072162954 and parameters: {'learning_rate': 0.10875562455117249, 'max_depth': 9, 'n_estimators': 149}. Best is trial 13 with value: 0.4354790671862268.\n",
      "[I 2024-12-11 12:43:32,691] Trial 15 finished with value: 0.4471823396830551 and parameters: {'learning_rate': 0.0438370684138369, 'max_depth': 15, 'n_estimators': 97}. Best is trial 13 with value: 0.4354790671862268.\n",
      "[I 2024-12-11 12:45:01,771] Trial 16 finished with value: 0.4642253896068948 and parameters: {'learning_rate': 0.1025706768894108, 'max_depth': 11, 'n_estimators': 150}. Best is trial 13 with value: 0.4354790671862268.\n",
      "[I 2024-12-11 12:46:13,395] Trial 17 finished with value: 0.4880251948278896 and parameters: {'learning_rate': 0.03162794222338844, 'max_depth': 12, 'n_estimators': 91}. Best is trial 13 with value: 0.4354790671862268.\n",
      "[I 2024-12-11 12:47:31,892] Trial 18 finished with value: 0.5192674637882919 and parameters: {'learning_rate': 0.2808546379219087, 'max_depth': 3, 'n_estimators': 167}. Best is trial 13 with value: 0.4354790671862268.\n",
      "[I 2024-12-11 12:48:41,746] Trial 19 finished with value: 0.48603896403437347 and parameters: {'learning_rate': 0.14232099258832367, 'max_depth': 9, 'n_estimators': 135}. Best is trial 13 with value: 0.4354790671862268.\n",
      "[I 2024-12-11 12:50:54,558] Trial 20 finished with value: 0.4455379353426246 and parameters: {'learning_rate': 0.07468472754760744, 'max_depth': 15, 'n_estimators': 193}. Best is trial 13 with value: 0.4354790671862268.\n",
      "[I 2024-12-11 12:52:47,235] Trial 21 finished with value: 0.4440788501097446 and parameters: {'learning_rate': 0.052351642451285124, 'max_depth': 13, 'n_estimators': 70}. Best is trial 13 with value: 0.4354790671862268.\n",
      "[I 2024-12-11 12:54:03,251] Trial 22 finished with value: 0.44662951261658057 and parameters: {'learning_rate': 0.04857354433204827, 'max_depth': 13, 'n_estimators': 75}. Best is trial 13 with value: 0.4354790671862268.\n",
      "[I 2024-12-11 12:55:23,849] Trial 23 finished with value: 0.4374119630024443 and parameters: {'learning_rate': 0.08987247077071214, 'max_depth': 14, 'n_estimators': 51}. Best is trial 13 with value: 0.4354790671862268.\n",
      "[I 2024-12-11 12:56:59,212] Trial 24 finished with value: 0.46145900618598373 and parameters: {'learning_rate': 0.09007797702651607, 'max_depth': 15, 'n_estimators': 53}. Best is trial 13 with value: 0.4354790671862268.\n",
      "[I 2024-12-11 12:58:13,117] Trial 25 finished with value: 0.4290008742508804 and parameters: {'learning_rate': 0.12217765596234065, 'max_depth': 12, 'n_estimators': 105}. Best is trial 25 with value: 0.4290008742508804.\n",
      "[I 2024-12-11 12:59:41,730] Trial 26 finished with value: 0.42697657173193276 and parameters: {'learning_rate': 0.1280337426071368, 'max_depth': 12, 'n_estimators': 102}. Best is trial 26 with value: 0.42697657173193276.\n",
      "[I 2024-12-11 13:01:21,013] Trial 27 finished with value: 0.44884138384723354 and parameters: {'learning_rate': 0.13647354974260834, 'max_depth': 10, 'n_estimators': 102}. Best is trial 26 with value: 0.42697657173193276.\n",
      "[I 2024-12-11 13:02:34,309] Trial 28 finished with value: 0.4650831247297014 and parameters: {'learning_rate': 0.15958651491252285, 'max_depth': 12, 'n_estimators': 86}. Best is trial 26 with value: 0.42697657173193276.\n",
      "[I 2024-12-11 13:03:46,317] Trial 29 finished with value: 0.4946512627261548 and parameters: {'learning_rate': 0.12409109767354219, 'max_depth': 7, 'n_estimators': 105}. Best is trial 26 with value: 0.42697657173193276.\n",
      "[I 2024-12-11 13:04:55,702] Trial 30 finished with value: 0.47258700993851155 and parameters: {'learning_rate': 0.21438524373195628, 'max_depth': 10, 'n_estimators': 113}. Best is trial 26 with value: 0.42697657173193276.\n",
      "[I 2024-12-11 13:06:11,755] Trial 31 finished with value: 0.4364169262320389 and parameters: {'learning_rate': 0.09306172139304361, 'max_depth': 13, 'n_estimators': 82}. Best is trial 26 with value: 0.42697657173193276.\n",
      "[I 2024-12-11 13:07:28,168] Trial 32 finished with value: 0.43385560821387725 and parameters: {'learning_rate': 0.1234492203874346, 'max_depth': 13, 'n_estimators': 80}. Best is trial 26 with value: 0.42697657173193276.\n",
      "[I 2024-12-11 13:08:42,879] Trial 33 finished with value: 0.4477052232161958 and parameters: {'learning_rate': 0.1805450757415641, 'max_depth': 12, 'n_estimators': 120}. Best is trial 26 with value: 0.42697657173193276.\n",
      "[I 2024-12-11 13:09:53,056] Trial 34 finished with value: 0.5007829342778755 and parameters: {'learning_rate': 0.15964013715237246, 'max_depth': 10, 'n_estimators': 94}. Best is trial 26 with value: 0.42697657173193276.\n",
      "[I 2024-12-11 13:11:23,828] Trial 35 finished with value: 0.4439749644193603 and parameters: {'learning_rate': 0.12233557515349366, 'max_depth': 14, 'n_estimators': 104}. Best is trial 26 with value: 0.42697657173193276.\n",
      "[I 2024-12-11 13:12:43,652] Trial 36 finished with value: 0.47027957513561686 and parameters: {'learning_rate': 0.17769959812693376, 'max_depth': 13, 'n_estimators': 77}. Best is trial 26 with value: 0.42697657173193276.\n",
      "[I 2024-12-11 13:13:53,489] Trial 37 finished with value: 0.4708041534602897 and parameters: {'learning_rate': 0.1236362081736266, 'max_depth': 8, 'n_estimators': 132}. Best is trial 26 with value: 0.42697657173193276.\n",
      "[I 2024-12-11 13:15:11,575] Trial 38 finished with value: 0.4460092968481725 and parameters: {'learning_rate': 0.15292046180701374, 'max_depth': 14, 'n_estimators': 66}. Best is trial 26 with value: 0.42697657173193276.\n",
      "[I 2024-12-11 13:16:21,912] Trial 39 finished with value: 0.5536041806304831 and parameters: {'learning_rate': 0.06997794900608377, 'max_depth': 5, 'n_estimators': 119}. Best is trial 26 with value: 0.42697657173193276.\n",
      "[I 2024-12-11 13:17:36,393] Trial 40 finished with value: 0.43102392937122436 and parameters: {'learning_rate': 0.1461431436972379, 'max_depth': 11, 'n_estimators': 141}. Best is trial 26 with value: 0.42697657173193276.\n",
      "[I 2024-12-11 13:18:48,168] Trial 41 finished with value: 0.46602905062129063 and parameters: {'learning_rate': 0.19518229547701327, 'max_depth': 11, 'n_estimators': 108}. Best is trial 26 with value: 0.42697657173193276.\n",
      "[I 2024-12-11 13:20:40,962] Trial 42 finished with value: 0.43277798274055285 and parameters: {'learning_rate': 0.14027225932819296, 'max_depth': 12, 'n_estimators': 138}. Best is trial 26 with value: 0.42697657173193276.\n",
      "[I 2024-12-11 13:22:06,293] Trial 43 finished with value: 0.43759529915478085 and parameters: {'learning_rate': 0.1486609676200467, 'max_depth': 12, 'n_estimators': 142}. Best is trial 26 with value: 0.42697657173193276.\n",
      "[I 2024-12-11 13:24:51,385] Trial 44 finished with value: 0.42235674625423486 and parameters: {'learning_rate': 0.16878974156327872, 'max_depth': 11, 'n_estimators': 139}. Best is trial 44 with value: 0.42235674625423486.\n",
      "[I 2024-12-11 13:26:19,311] Trial 45 finished with value: 0.48492365834254125 and parameters: {'learning_rate': 0.22771867067901275, 'max_depth': 11, 'n_estimators': 157}. Best is trial 44 with value: 0.42235674625423486.\n",
      "[I 2024-12-11 13:27:30,422] Trial 46 finished with value: 0.46647195765641375 and parameters: {'learning_rate': 0.16691971587084592, 'max_depth': 9, 'n_estimators': 125}. Best is trial 44 with value: 0.42235674625423486.\n",
      "[I 2024-12-11 13:28:44,215] Trial 47 finished with value: 0.4482812801555757 and parameters: {'learning_rate': 0.1938299454703704, 'max_depth': 10, 'n_estimators': 138}. Best is trial 44 with value: 0.42235674625423486.\n",
      "[I 2024-12-11 13:30:01,485] Trial 48 finished with value: 0.44032910077610715 and parameters: {'learning_rate': 0.13573690347899964, 'max_depth': 11, 'n_estimators': 159}. Best is trial 44 with value: 0.42235674625423486.\n",
      "[I 2024-12-11 13:32:16,683] Trial 49 finished with value: 0.4667084291669277 and parameters: {'learning_rate': 0.2468139447722612, 'max_depth': 12, 'n_estimators': 141}. Best is trial 44 with value: 0.42235674625423486.\n"
     ]
    },
    {
     "name": "stdout",
     "output_type": "stream",
     "text": [
      "Meilleurs paramètres :  {'learning_rate': 0.16878974156327872, 'max_depth': 11, 'n_estimators': 139}\n",
      "Meilleure métrique (RMSE) :  0.42235674625423486\n"
     ]
    }
   ],
   "source": [
    "study = optuna.create_study(direction=\"minimize\")\n",
    "study.optimize(bc.objective, n_trials=50)\n",
    "\n",
    "print(\"Meilleurs paramètres : \", study.best_params)\n",
    "print(\"Meilleure métrique (RMSE) : \", study.best_value)"
   ]
  }
 ],
 "metadata": {
  "kernelspec": {
   "display_name": "bikes-count",
   "language": "python",
   "name": "python3"
  },
  "language_info": {
   "codemirror_mode": {
    "name": "ipython",
    "version": 3
   },
   "file_extension": ".py",
   "mimetype": "text/x-python",
   "name": "python",
   "nbconvert_exporter": "python",
   "pygments_lexer": "ipython3",
   "version": "3.10.15"
  }
 },
 "nbformat": 4,
 "nbformat_minor": 2
}
