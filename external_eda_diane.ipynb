{
 "cells": [
  {
   "cell_type": "code",
   "execution_count": 2,
   "metadata": {},
   "outputs": [
    {
     "name": "stderr",
     "output_type": "stream",
     "text": [
      "c:\\Users\\diane\\anaconda3\\envs\\bikes-count\\lib\\site-packages\\tqdm\\auto.py:21: TqdmWarning: IProgress not found. Please update jupyter and ipywidgets. See https://ipywidgets.readthedocs.io/en/stable/user_install.html\n",
      "  from .autonotebook import tqdm as notebook_tqdm\n",
      "Importing plotly failed. Interactive plots will not work.\n"
     ]
    }
   ],
   "source": [
    "import bike_count as bc\n",
    "import pandas as pd\n",
    "import numpy as np\n",
    "import pandas as pd\n",
    "import numpy as np\n",
    "import holidays\n",
    "from pathlib import Path\n",
    "from sklearn.preprocessing import FunctionTransformer, OneHotEncoder, StandardScaler\n",
    "from sklearn.pipeline import make_pipeline\n",
    "from sklearn.compose import ColumnTransformer\n",
    "from sklearn.linear_model import LinearRegression, Ridge\n",
    "from sklearn.ensemble import RandomForestRegressor\n",
    "from flaml import AutoML\n",
    "from xgboost import XGBRegressor\n",
    "from prophet import Prophet\n",
    "import importlib"
   ]
  },
  {
   "cell_type": "code",
   "execution_count": 33,
   "metadata": {},
   "outputs": [
    {
     "name": "stdout",
     "output_type": "stream",
     "text": [
      "      numer_sta                date    pmer  tend  cod_tend   dd   ff       t  \\\n",
      "0          7149 2021-01-01 00:00:00  100810    80         1  270  1.8  272.75   \n",
      "1          7149 2021-01-01 03:00:00  100920   110         3  300  1.7  271.25   \n",
      "2          7149 2021-01-01 06:00:00  100950    30         3  290  2.6  271.95   \n",
      "3          7149 2021-01-01 09:00:00  101100   150         2  280  1.7  272.45   \n",
      "4          7149 2021-01-01 12:00:00  101110    30         0   50  1.0  276.95   \n",
      "...         ...                 ...     ...   ...       ...  ...  ...     ...   \n",
      "3317       7149 2020-09-30 09:00:00  101540   -30         8  230  4.4  289.95   \n",
      "3318       7149 2020-09-30 12:00:00  101320  -210         8  190  4.9  292.05   \n",
      "3319       7149 2020-09-30 15:00:00  101140  -180         7  190  4.1  291.55   \n",
      "3320       7149 2020-09-30 18:00:00  101020  -130         6  190  2.7  290.15   \n",
      "3321       7149 2020-09-30 21:00:00  100880  -140         8  170  2.4  288.35   \n",
      "\n",
      "          td   u  ...  hnuage1  nnuage2  ctype2  hnuage2  nnuage3  ctype3  \\\n",
      "0     272.15  96  ...    600.0      NaN     NaN      NaN      NaN     NaN   \n",
      "1     270.95  98  ...   1500.0      2.0     3.0   3000.0      NaN     NaN   \n",
      "2     271.65  98  ...    480.0      4.0     6.0   2000.0      6.0     3.0   \n",
      "3     272.05  97  ...   1740.0      3.0     3.0   2800.0      NaN     NaN   \n",
      "4     274.15  82  ...    330.0      4.0     6.0    570.0      7.0     6.0   \n",
      "...      ...  ..  ...      ...      ...     ...      ...      ...     ...   \n",
      "3317  286.85  82  ...    400.0      7.0     6.0   2200.0      NaN     NaN   \n",
      "3318  285.55  66  ...    870.0      7.0     6.0   1900.0      NaN     NaN   \n",
      "3319  286.45  72  ...    820.0      7.0     6.0   2200.0      NaN     NaN   \n",
      "3320  285.25  73  ...   2160.0      NaN     NaN      NaN      NaN     NaN   \n",
      "3321  285.85  85  ...   1980.0      7.0     0.0   5700.0      NaN     NaN   \n",
      "\n",
      "      hnuage3  nnuage4  ctype4  hnuage4  \n",
      "0         NaN      NaN     NaN      NaN  \n",
      "1         NaN      NaN     NaN      NaN  \n",
      "2      3000.0      NaN     NaN      NaN  \n",
      "3         NaN      NaN     NaN      NaN  \n",
      "4       810.0      NaN     NaN      NaN  \n",
      "...       ...      ...     ...      ...  \n",
      "3317      NaN      NaN     NaN      NaN  \n",
      "3318      NaN      NaN     NaN      NaN  \n",
      "3319      NaN      NaN     NaN      NaN  \n",
      "3320      NaN      NaN     NaN      NaN  \n",
      "3321      NaN      NaN     NaN      NaN  \n",
      "\n",
      "[3322 rows x 59 columns]\n"
     ]
    }
   ],
   "source": [
    "importlib.reload(bc)\n",
    "\n",
    "X, y = bc.get_model_data()\n",
    "X_merge = bc._merge_external_data(X)"
   ]
  },
  {
   "cell_type": "code",
   "execution_count": 34,
   "metadata": {},
   "outputs": [],
   "source": [
    "X_merge.isna().sum()\n",
    "X_merge[\"bike_count\"] = np.exp(y)\n",
    "X_merge.drop(\n",
    "    [\n",
    "        \"counter_id\",\n",
    "        \"counter_name\",\n",
    "        \"site_id\",\n",
    "        \"site_name\",\n",
    "        \"date\",\n",
    "        \"counter_installation_date\",\n",
    "        \"coordinates\",\n",
    "        \"counter_technical_id\",\n",
    "        \"latitude\",\n",
    "        \"longitude\",\n",
    "    ],\n",
    "    axis=1,\n",
    "    inplace=True,\n",
    ")"
   ]
  },
  {
   "cell_type": "code",
   "execution_count": 38,
   "metadata": {},
   "outputs": [],
   "source": [
    "corr_matrix = X_merge.corr()"
   ]
  },
  {
   "cell_type": "code",
   "execution_count": 37,
   "metadata": {},
   "outputs": [
    {
     "data": {
      "text/plain": [
       "bike_count    1.000000\n",
       "t             0.254320\n",
       "tx12          0.219782\n",
       "tn12          0.184893\n",
       "td            0.098675\n",
       "Name: bike_count, dtype: float64"
      ]
     },
     "execution_count": 37,
     "metadata": {},
     "output_type": "execute_result"
    }
   ],
   "source": [
    "corr_matrix.iloc[:, -1].sort_values(ascending=False).abs().head()"
   ]
  },
  {
   "cell_type": "code",
   "execution_count": null,
   "metadata": {},
   "outputs": [
    {
     "data": {
      "image/png": "[encoded data removed]",
      "text/plain": [
       "<Figure size 640x480 with 1 Axes>"
      ]
     },
     "metadata": {},
     "output_type": "display_data"
    }
   ],
   "source": [
    "import matplotlib.pyplot as plt\n",
    "\n",
    "plt.boxplot(X_merge[\"t\"])\n",
    "plt.title(\"Box Plot de la temperature\")\n",
    "plt.ylabel(\"°K\")\n",
    "plt.show()"
   ]
  },
  {
   "cell_type": "code",
   "execution_count": null,
   "metadata": {},
   "outputs": [],
   "source": []
  }
 ],
 "metadata": {
  "kernelspec": {
   "display_name": "bikes-count",
   "language": "python",
   "name": "python3"
  },
  "language_info": {
   "codemirror_mode": {
    "name": "ipython",
    "version": 3
   },
   "file_extension": ".py",
   "mimetype": "text/x-python",
   "name": "python",
   "nbconvert_exporter": "python",
   "pygments_lexer": "ipython3",
   "version": "3.10.15"
  }
 },
 "nbformat": 4,
 "nbformat_minor": 2
}
